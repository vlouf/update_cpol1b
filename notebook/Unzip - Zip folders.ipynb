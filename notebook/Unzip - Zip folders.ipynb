{
 "cells": [
  {
   "cell_type": "code",
   "execution_count": 1,
   "metadata": {},
   "outputs": [],
   "source": [
    "import os\n",
    "import glob\n",
    "import uuid\n",
    "import datetime\n",
    "import zipfile\n",
    "\n",
    "import tqdm\n",
    "import netCDF4\n",
    "import pandas as pd\n",
    "import xarray as xr\n",
    "\n",
    "import dask\n",
    "import dask.bag as db\n",
    "from dask.diagnostics import ProgressBar"
   ]
  },
  {
   "cell_type": "code",
   "execution_count": 2,
   "metadata": {},
   "outputs": [],
   "source": [
    "def good_keys():\n",
    "    keep_keys = ['time',\n",
    "                 'range',\n",
    "                 'azimuth',\n",
    "                 'elevation',\n",
    "                 'radar_echo_classification',\n",
    "                 'radar_estimated_rain_rate',\n",
    "                 'velocity', \n",
    "                 'total_power',\n",
    "                 'reflectivity',\n",
    "                 'cross_correlation_ratio',\n",
    "                 'differential_reflectivity',\n",
    "                 'corrected_differential_reflectivity',\n",
    "                 'differential_phase',\n",
    "                 'corrected_differential_phase',\n",
    "                 'corrected_specific_differential_phase',\n",
    "                 'spectrum_width',\n",
    "                 'signal_to_noise_ratio',\n",
    "                 'sweep_number',\n",
    "                 'fixed_angle',\n",
    "                 'sweep_start_ray_index',\n",
    "                 'sweep_end_ray_index',\n",
    "                 'sweep_mode',\n",
    "                 'prt_mode',\n",
    "                 'prt',\n",
    "                 'nyquist_velocity',\n",
    "                 'unambiguous_range',\n",
    "                 'radar_beam_width_h',\n",
    "                 'radar_beam_width_v',\n",
    "                 'latitude',\n",
    "                 'longitude',\n",
    "                 'altitude',\n",
    "                 'time_coverage_start',\n",
    "                 'time_coverage_end',\n",
    "                 'time_reference',\n",
    "                 'volume_number',\n",
    "                 'platform_type',\n",
    "                 'instrument_type',\n",
    "                 'primary_axis']\n",
    "    \n",
    "    return keep_keys"
   ]
  },
  {
   "cell_type": "code",
   "execution_count": 3,
   "metadata": {},
   "outputs": [],
   "source": [
    "def get_metadata(radar_start_date, radar_end_date):\n",
    "    maxlon = 132.385\n",
    "    minlon = 129.703\n",
    "    maxlat = -10.941\n",
    "    minlat = -13.552\n",
    "    origin_altitude = '50'\n",
    "    origin_latitude = '-12.2491'\n",
    "    origin_longitude = '131.0444'\n",
    "    unique_id = str(uuid.uuid4())\n",
    "    fieldnames = ['radar_echo_classification',\n",
    "                  'radar_estimated_rain_rate',\n",
    "                  'velocity', \n",
    "                  'total_power',\n",
    "                  'reflectivity',\n",
    "                  'cross_correlation_ratio',\n",
    "                  'differential_reflectivity',\n",
    "                  'corrected_differential_reflectivity',\n",
    "                  'differential_phase',\n",
    "                  'corrected_differential_phase',\n",
    "                  'corrected_specific_differential_phase',\n",
    "                  'spectrum_width',\n",
    "                  'signal_to_noise_ratio']\n",
    "\n",
    "    metadata = {'Conventions': \"CF-1.6, ACDD-1.3\",\n",
    "                'acknowledgement': 'This work has been supported by the U.S. Department of Energy Atmospheric Systems Research Program through the grant DE-SC0014063. Data may be freely distributed.',\n",
    "                'country': 'Australia',\n",
    "                'creator_email': 'valentin.louf@bom.gov.au',\n",
    "                'creator_name': 'Valentin Louf',\n",
    "                'creator_url': 'github.com/vlouf',                \n",
    "                'date_modified': datetime.datetime.now().isoformat(),\n",
    "                'field_names': \", \".join(fieldnames),\n",
    "                \"geospatial_bounds\": f\"POLYGON(({minlon:0.6} {minlat:0.6},{minlon:0.6} {maxlat:0.6},{maxlon:0.6} {maxlat:0.6},{maxlon:0.6} {minlat:0.6},{minlon:0.6} {minlat:0.6}))\",\n",
    "                'geospatial_lat_max': f'{maxlat:0.6}',\n",
    "                'geospatial_lat_min': f'{minlat:0.6}',\n",
    "                'geospatial_lat_units': \"degrees_north\",\n",
    "                'geospatial_lon_max': f'{maxlon:0.6}',\n",
    "                'geospatial_lon_min': f'{minlon:0.6}',\n",
    "                'geospatial_lon_units': \"degrees_east\",                \n",
    "                'id': unique_id,\n",
    "                'institution': 'Bureau of Meteorology',\n",
    "                'instrument': 'radar',\n",
    "                'instrument_name': 'CPOL',\n",
    "                'instrument_type': 'radar',\n",
    "                'keywords': 'radar, tropics, Doppler, dual-polarization',\n",
    "                'licence': \"Freely Distributed\",\n",
    "                'naming_authority': 'au.org.nci',\n",
    "                'origin_altitude': origin_altitude,\n",
    "                'origin_latitude': origin_latitude,\n",
    "                'origin_longitude': origin_longitude,\n",
    "                'platform_is_mobile': 'false',\n",
    "                'processing_level': 'b1',\n",
    "                'project': \"CPOL\",\n",
    "                'publisher_name': \"NCI\",\n",
    "                'publisher_url': \"nci.gov.au\",                \n",
    "                'references': 'doi:10.1175/JTECH-D-18-0007.1',\n",
    "                'site_name': 'Gunn Pt',\n",
    "                'source': 'radar',\n",
    "                'state': \"NT\",\n",
    "                'standard_name_vocabulary': 'CF Standard Name Table v71',\n",
    "                'summary': \"Volumetric scan from CPOL dual-polarization Doppler radar (Darwin, Australia)\",\n",
    "                'time_coverage_start': str(radar_start_date),\n",
    "                'time_coverage_end': str(radar_end_date),\n",
    "                'time_coverage_duration': \"P10M\",\n",
    "                'time_coverage_resolution': \"PT10M\",\n",
    "                'title': \"radar PPI volume from CPOL\",\n",
    "                'uuid': unique_id}           \n",
    "    \n",
    "    return metadata"
   ]
  },
  {
   "cell_type": "code",
   "execution_count": 4,
   "metadata": {},
   "outputs": [],
   "source": [
    "def mkdir(path):\n",
    "    try:\n",
    "        os.mkdir(path)\n",
    "    except FileExistsError:\n",
    "        pass\n",
    "    \n",
    "    return None"
   ]
  },
  {
   "cell_type": "code",
   "execution_count": 5,
   "metadata": {},
   "outputs": [],
   "source": [
    "def extract_zip(inzip, path):\n",
    "    dates = os.path.basename(inzip).replace('.zip', '')\n",
    "    with zipfile.ZipFile(inzip) as zid:\n",
    "        zid.extractall(path=path)\n",
    "        namelist = [os.path.join(path, f) for f in zid.namelist()]\n",
    "    return dates, namelist"
   ]
  },
  {
   "cell_type": "code",
   "execution_count": 6,
   "metadata": {
    "scrolled": false
   },
   "outputs": [],
   "source": [
    "def update_dataset(radar_file, path):\n",
    "    dset = xr.open_dataset(radar_file)\n",
    "    radar_start_date = dset.time[0].values\n",
    "    radar_end_date = dset.time[-1].values\n",
    "\n",
    "    fname = \"twp10cpolppi.b1.{}00.nc\".format(pd.Timestamp(radar_start_date).strftime(\"%Y%m%d.%H%M\"))\n",
    "    outfilename = os.path.join(path, fname)\n",
    "    if os.path.exists(outfilename):\n",
    "        print(f'File already exists.')\n",
    "        return None\n",
    "    \n",
    "    keep_keys = good_keys()\n",
    "    keylist = [k for k in dset.variables.keys()]\n",
    "    for k in keylist:\n",
    "        if k not in keep_keys:\n",
    "            dset = dset.drop(k)\n",
    "\n",
    "    metadata = get_metadata(radar_start_date, radar_end_date)\n",
    "    metadata['product_version'] = \"v\" + dset.attrs['product_version']\n",
    "    metadata['version'] = \"v\" + dset.attrs['product_version']\n",
    "    metadata['date_created'] = dset.attrs['created'],\n",
    "    metadata['history'] = \"created by Valentin Louf on raijin.nci.org.au at \" + dset.attrs['created'] + \" using Py-ART\",\n",
    "    dset.attrs = metadata\n",
    "\n",
    "    dset.to_netcdf(outfilename, encoding={k:{'zlib': True} for k in dset.variables.keys()})    \n",
    "    if not os.path.exists(outfilename):\n",
    "        print(f'Output file does not exist !!!.')\n",
    "        return None\n",
    "    \n",
    "    del dset\n",
    "    return radar_file"
   ]
  },
  {
   "cell_type": "code",
   "execution_count": 7,
   "metadata": {},
   "outputs": [],
   "source": [
    "def remove(flist):\n",
    "    for f in flist:\n",
    "        if f is None:\n",
    "            continue\n",
    "        try:\n",
    "            os.remove(f)\n",
    "        except FileNotFoundError:\n",
    "            pass        \n",
    "    return None"
   ]
  },
  {
   "cell_type": "code",
   "execution_count": 8,
   "metadata": {},
   "outputs": [],
   "source": [
    "zipdir = '/scratch/kl02/vhl548'\n",
    "ziplist = sorted(glob.glob('/g/data/hj10/admin/cpol_level_1b/v2018/ppi/1998/*.zip'))"
   ]
  },
  {
   "cell_type": "code",
   "execution_count": 8,
   "metadata": {
    "scrolled": false
   },
   "outputs": [],
   "source": [
    "# dates, namelist = extract_zip(ziplist[0], zipdir)\n",
    "# outpath = f'/scratch/kl02/vhl548/tmpcpol/{dates}'\n",
    "# mkdir(outpath)"
   ]
  },
  {
   "cell_type": "code",
   "execution_count": 9,
   "metadata": {},
   "outputs": [
    {
     "name": "stderr",
     "output_type": "stream",
     "text": [
      "<ipython-input-9-0814db3b6591>:1: TqdmDeprecationWarning: This function will be removed in tqdm==5.0.0\n",
      "Please use `tqdm.notebook.tqdm` instead of `tqdm.tqdm_notebook`\n",
      "  for zfile in tqdm.tqdm_notebook(ziplist[1:]):\n"
     ]
    },
    {
     "data": {
      "application/vnd.jupyter.widget-view+json": {
       "model_id": "b1add777a6374a0a82ea08998c507db7",
       "version_major": 2,
       "version_minor": 0
      },
      "text/plain": [
       "HBox(children=(FloatProgress(value=0.0, max=19.0), HTML(value='')))"
      ]
     },
     "metadata": {},
     "output_type": "display_data"
    },
    {
     "name": "stdout",
     "output_type": "stream",
     "text": [
      "[########################################] | 100% Completed | 13.4s\n",
      "[########################################] | 100% Completed | 28.5s\n",
      "[########################################] | 100% Completed |  7.4s\n",
      "[########################################] | 100% Completed | 29.0s\n",
      "[########################################] | 100% Completed | 33.7s\n",
      "[########################################] | 100% Completed | 32.7s\n",
      "[########################################] | 100% Completed | 35.0s\n",
      "[########################################] | 100% Completed | 36.3s\n",
      "[########################################] | 100% Completed | 33.8s\n",
      "[########################################] | 100% Completed | 33.9s\n",
      "[########################################] | 100% Completed | 28.5s\n",
      "[########################################] | 100% Completed | 30.2s\n",
      "[########################################] | 100% Completed | 30.9s\n",
      "[########################################] | 100% Completed | 27.7s\n",
      "[########################################] | 100% Completed | 32.5s\n",
      "[########################################] | 100% Completed | 37.6s\n",
      "[########################################] | 100% Completed | 24.7s\n",
      "[########################################] | 100% Completed | 30.5s\n",
      "[########################################] | 100% Completed | 31.3s\n",
      "\n"
     ]
    }
   ],
   "source": [
    "for zfile in tqdm.tqdm_notebook(ziplist[1:]):\n",
    "    dates, namelist = extract_zip(zfile, zipdir)\n",
    "    outpath = f'/scratch/kl02/vhl548/tmpcpol/{dates}'\n",
    "    mkdir(outpath)\n",
    "    bag = db.from_sequence([(n, outpath) for n in namelist]).starmap(update_dataset)\n",
    "    with ProgressBar():\n",
    "        rslt = bag.compute()\n",
    "\n",
    "    remove(rslt)"
   ]
  },
  {
   "cell_type": "code",
   "execution_count": null,
   "metadata": {},
   "outputs": [],
   "source": []
  }
 ],
 "metadata": {
  "kernelspec": {
   "display_name": "Python 3",
   "language": "python",
   "name": "python3"
  },
  "language_info": {
   "codemirror_mode": {
    "name": "ipython",
    "version": 3
   },
   "file_extension": ".py",
   "mimetype": "text/x-python",
   "name": "python",
   "nbconvert_exporter": "python",
   "pygments_lexer": "ipython3",
   "version": "3.8.1"
  }
 },
 "nbformat": 4,
 "nbformat_minor": 4
}
