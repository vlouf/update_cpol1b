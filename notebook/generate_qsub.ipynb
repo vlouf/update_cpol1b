{
 "cells": [
  {
   "cell_type": "code",
   "execution_count": 2,
   "metadata": {},
   "outputs": [],
   "source": [
    "for year in range(1998, 2018):\n",
    "    if year == 2008:\n",
    "        continue\n",
    "\n",
    "    txt = \"\"\"#!/bin/bash\n",
    "#PBS -P kl02\n",
    "#PBS -q express\n",
    "#PBS -l walltime=6:00:00\n",
    "#PBS -l mem=32GB\n",
    "#PBS -l wd\n",
    "#PBS -l ncpus=16\n",
    "\n",
    "conda activate radar\n",
    "\n",
    "python update_cpol1b.py -y {}\n",
    "\"\"\".format(year)\n",
    "    \n",
    "    with open(f\"projects/RADAR_codes/update_cpol1b/qsub_update_{year}.pbs\", \"w+\") as fid:\n",
    "        fid.write(txt)"
   ]
  },
  {
   "cell_type": "code",
   "execution_count": null,
   "metadata": {},
   "outputs": [],
   "source": []
  }
 ],
 "metadata": {
  "kernelspec": {
   "display_name": "Python 3",
   "language": "python",
   "name": "python3"
  },
  "language_info": {
   "codemirror_mode": {
    "name": "ipython",
    "version": 3
   },
   "file_extension": ".py",
   "mimetype": "text/x-python",
   "name": "python",
   "nbconvert_exporter": "python",
   "pygments_lexer": "ipython3",
   "version": "3.7.3"
  }
 },
 "nbformat": 4,
 "nbformat_minor": 2
}
