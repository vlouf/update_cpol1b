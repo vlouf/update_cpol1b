{
 "cells": [
  {
   "cell_type": "code",
   "execution_count": 1,
   "metadata": {},
   "outputs": [],
   "source": [
    "import glob\n",
    "from math import ceil"
   ]
  },
  {
   "cell_type": "code",
   "execution_count": null,
   "metadata": {},
   "outputs": [],
   "source": [
    "def get_path(year):\n",
    "    return glob.glob(f\"/g/data/hj10/admin/cpol_level_1b/v2018/ppi/{YEAR}/*.zip\")"
   ]
  },
  {
   "cell_type": "code",
   "execution_count": 2,
   "metadata": {},
   "outputs": [],
   "source": [
    "for year in range(1999, 2018):\n",
    "    if year == 2008 or year == 2009:\n",
    "        continue\n",
    "\n",
    "    flist = get_path(year)\n",
    "    if len(flist) == 0:\n",
    "        continue\n",
    "\n",
    "    time = int(ceil(len(flist) / 60))\n",
    "\n",
    "    txt = f\"\"\"#!/bin/bash\n",
    "#PBS -P kl02\n",
    "#PBS -q normal\n",
    "#PBS -l walltime={time}:00:00\n",
    "#PBS -l mem=128GB\n",
    "#PBS -l wd\n",
    "#PBS -l ncpus=16\n",
    "\n",
    "source activate radar\n",
    "\n",
    "python reprocess_v2018 -y {year}\n",
    "\"\"\"\n",
    "    \n",
    "    with open(f\"../scripts/qupdate_cpol_{year}.pbs\", \"w+\") as fid:\n",
    "        fid.write(txt)"
   ]
  }
 ],
 "metadata": {
  "kernelspec": {
   "display_name": "Python 3",
   "language": "python",
   "name": "python3"
  },
  "language_info": {
   "codemirror_mode": {
    "name": "ipython",
    "version": 3
   },
   "file_extension": ".py",
   "mimetype": "text/x-python",
   "name": "python",
   "nbconvert_exporter": "python",
   "pygments_lexer": "ipython3",
   "version": "3.8.1-final"
  }
 },
 "nbformat": 4,
 "nbformat_minor": 2
}