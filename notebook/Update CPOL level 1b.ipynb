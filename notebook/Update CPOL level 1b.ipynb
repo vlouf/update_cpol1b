{
 "cells": [
  {
   "cell_type": "code",
   "execution_count": null,
   "metadata": {},
   "outputs": [],
   "source": [
    "import os\n",
    "import glob\n",
    "import copy\n",
    "import uuid\n",
    "import datetime\n",
    "import warnings\n",
    "import traceback\n",
    "\n",
    "import pyart\n",
    "import netCDF4\n",
    "import numpy as np\n",
    "import xarray as xr"
   ]
  },
  {
   "cell_type": "code",
   "execution_count": null,
   "metadata": {},
   "outputs": [],
   "source": [
    "def get_metadata():\n",
    "    today = datetime.datetime.utcnow()\n",
    "    maxlon = '132.385'\n",
    "    minlon = '129.703'\n",
    "    maxlat = '-10.941'\n",
    "    minlat = '-13.552'\n",
    "    origin_altitude = '50'\n",
    "    origin_latitude = '-12.249'\n",
    "    origin_longitude = '131.044'\n",
    "\n",
    "    metadata = dict()\n",
    "    metadata['Conventions'] = \"CF/Radial instrument_parameters\"\n",
    "    metadata['acknowledgement'] = 'This work has been supported by the U.S. Department of Energy Atmospheric Systems Research Program through the grant DE-SC0014063. Data may be freely distributed.'\n",
    "    metadata['country'] = 'Australia'\n",
    "    metadata['creator_email'] = 'valentin.louf@monash.edu'\n",
    "    metadata['creator_name'] = 'Valentin Louf'\n",
    "    metadata['geospatial_bounds'] = f\"({minlon}, {maxlon}, {minlat}, {maxlat})\"\n",
    "    metadata['geospatial_lat_max'] = maxlat\n",
    "    metadata['geospatial_lat_min'] = minlat\n",
    "    metadata['geospatial_lat_units'] = \"degrees_north\"\n",
    "    metadata['geospatial_lon_max'] = maxlon\n",
    "    metadata['geospatial_lon_min'] = minlon\n",
    "    metadata['geospatial_lon_units'] = \"degrees_east\"\n",
    "    metadata['history'] = \"created by Valentin Louf on raijin.nci.org.au at \" + today.isoformat() + \" using Py-ART\"\n",
    "    metadata['institution'] = 'Monash University and Australian Bureau of Meteorology'\n",
    "    metadata['instrument_name'] = 'CPOL'\n",
    "    metadata['instrument_type'] = 'radar'\n",
    "    metadata['naming_authority'] = 'au.org.nci'\n",
    "    metadata['origin_altitude'] = origin_altitude\n",
    "    metadata['origin_latitude'] = origin_latitude\n",
    "    metadata['origin_longitude'] = origin_longitude\n",
    "    metadata['platform_is_mobile'] = 'false'\n",
    "    metadata['processing_level'] = 'b1'\n",
    "    metadata['publisher_name'] = \"NCI\"\n",
    "    metadata['publisher_url'] = \"nci.gov.au\"\n",
    "    metadata['references'] = 'cf. doi:10.1175/JTECH-D-18-0007.1'\n",
    "    metadata['site_name'] = 'Gunn_Pt'\n",
    "    metadata['source'] = 'rapic'\n",
    "    metadata['state'] = \"NT\"\n",
    "    metadata['title'] = \"radar PPI volume from CPOL\"\n",
    "    metadata['uuid'] = str(uuid.uuid4())\n",
    "    metadata['version'] = \"1.3\"\n",
    "\n",
    "    return metadata"
   ]
  },
  {
   "cell_type": "code",
   "execution_count": 62,
   "metadata": {},
   "outputs": [],
   "source": [
    "def update_data(infile):\n",
    "    radar = pyart.io.read(infile)\n",
    "    \n",
    "    radar_start_date = netCDF4.num2date(radar.time['data'][0], radar.time['units'])\n",
    "    daystr = radar_start_date.strftime(\"%Y%m%d\")\n",
    "    filename = \"twp10cpolppi.b1.{}00.nc\".format(radar_start_date.strftime(\"%Y%m%d.%H%M\"))\n",
    "    outdir = os.path.join(OUTPATH, str(radar_start_date.year))\n",
    "    try:\n",
    "        os.mkdir(outdir)\n",
    "    except FileExistsError:\n",
    "        pass\n",
    "    \n",
    "    outdir_day = os.path.join(outdir, daystr)\n",
    "    try:\n",
    "        os.mkdir(outdir_day)\n",
    "    except FileExistsError:\n",
    "        pass\n",
    "\n",
    "    outfilename = os.path.join(outdir_day, filename)\n",
    "\n",
    "    # Get original level 1a file for copying intstrument parameters\n",
    "    datestr = radar_start_date.strftime(\"%Y%m%d.%H%M\")    \n",
    "    yrstr = radar_start_date.strftime(\"%Y\")\n",
    "    fone = \"/g/data/hj10/cpol_level_1a/v2019/ppi/{}/{}/twp10cpolppi.a1.{}00.nc\".format(yrstr, daystr, datestr)\n",
    "    if not os.path.isfile(fone):\n",
    "        print(f\"{fone} is missing.\")\n",
    "        fone = \"/g/data/hj10/cpol_level_1a/v2019/ppi/2017/20170304/twp10cpolppi.a1.20170304.000000.nc\"\n",
    "    oned = pyart.io.read(fone)\n",
    "\n",
    "    radar.instrument_parameters = oned.instrument_parameters\n",
    "    radar.metadata = get_metadata()\n",
    "    radar.radar_calibration = None\n",
    "\n",
    "    keys_drop = ['temperature',\n",
    "        'specific_attenuation_reflectivity',\n",
    "        'specific_attenuation_differential_reflectivity',\n",
    "        'velocity_texture',\n",
    "        'differential_reflectivity',\n",
    "        'differential_phase',\n",
    "        'signal_to_noise_ratio',]\n",
    "\n",
    "    klist = list(radar.fields.keys())\n",
    "    for key in klist:\n",
    "        if key in keys_drop:\n",
    "            radar.fields.pop(key)\n",
    "\n",
    "    try:\n",
    "        radar.fields['velocity'] = radar.fields.pop('raw_velocity')\n",
    "        radar.add_field('corrected_velocity', radar.fields.pop('region_dealias_velocity'))\n",
    "    except Exception:\n",
    "        pass\n",
    "\n",
    "    try:\n",
    "        radar.fields['radar_echo_classification']['data'] = radar.fields['radar_echo_classification']['data'].astype(np.int32)\n",
    "        np.ma.set_fill_value(radar.fields['radar_echo_classification']['data'], -9999)\n",
    "        radar.fields['radar_echo_classification']['_FillValue'] = -9999\n",
    "    except Exception:\n",
    "        pass\n",
    "\n",
    "    radar.fields['radar_estimated_rain_rate']['_Least_significant_digit'] = 2\n",
    "\n",
    "    try:\n",
    "        radar.fields['NW'].pop('standard_name')\n",
    "        np.ma.set_fill_value(radar.fields['NW']['data'], np.NaN)\n",
    "        radar.fields['NW']['_FillValue'] = np.NaN\n",
    "        radar.fields['NW']['_Least_significant_digit'] = 2\n",
    "        radar.fields['NW']['data'] = np.ma.masked_invalid(radar.fields['NW']['data'])\n",
    "    except Exception:\n",
    "        pass\n",
    "\n",
    "    klist_pr = [('D0', 2, np.NaN),\n",
    "                ('velocity', 2, np.NaN),\n",
    "                ('total_power', 2, np.NaN),\n",
    "                ('reflectivity', 2, np.NaN),\n",
    "                ('cross_correlation_ratio', 4, np.NaN),\n",
    "                ('corrected_differential_reflectivity', 4, np.NaN),\n",
    "                ('corrected_differential_phase', 4, np.NaN),\n",
    "                ('corrected_specific_differential_phase', 4, np.NaN),\n",
    "                ('spectrum_width', 4, np.NaN),\n",
    "                ('corrected_velocity', 2, np.NaN)]\n",
    "\n",
    "    for key, least_digit, fvalue in klist_pr:\n",
    "        # print(key, least_digit, fvalue)\n",
    "        try:\n",
    "            np.ma.set_fill_value(radar.fields[key]['data'], fvalue)\n",
    "            radar.fields[key]['data'] = radar.fields[key]['data'].astype(np.float32)\n",
    "            radar.fields[key]['_Least_significant_digit'] = least_digit\n",
    "            radar.fields[key]['_FillValue'] = fvalue\n",
    "        except Exception:\n",
    "            traceback.print_exc()\n",
    "            continue\n",
    "\n",
    "    bad_attr = ['grid_mapping', 'coordinates']\n",
    "\n",
    "    for k in radar.fields.keys():\n",
    "        for badk in bad_attr:\n",
    "            try:\n",
    "                radar.fields[k].pop(badk)\n",
    "            except KeyError:\n",
    "                pass\n",
    "\n",
    "    pyart.io.write_cfradial(outfilename, radar)\n",
    "    return None"
   ]
  },
  {
   "cell_type": "code",
   "execution_count": null,
   "metadata": {},
   "outputs": [],
   "source": []
  },
  {
   "cell_type": "code",
   "execution_count": null,
   "metadata": {},
   "outputs": [],
   "source": []
  },
  {
   "cell_type": "code",
   "execution_count": 69,
   "metadata": {},
   "outputs": [],
   "source": [
    "YEAR = 2017"
   ]
  },
  {
   "cell_type": "code",
   "execution_count": 70,
   "metadata": {},
   "outputs": [],
   "source": [
    "INPATH = \"/g/data2/rr5/CPOL_radar/CPOL_level_1b/PPI/\""
   ]
  },
  {
   "cell_type": "code",
   "execution_count": 71,
   "metadata": {},
   "outputs": [
    {
     "name": "stdout",
     "output_type": "stream",
     "text": [
      "16988\n"
     ]
    }
   ],
   "source": [
    "indir = os.path.join(INPATH, str(YEAR), '**', '*.nc')\n",
    "flist = sorted(glob.glob(indir))\n",
    "print(len(flist))"
   ]
  },
  {
   "cell_type": "code",
   "execution_count": null,
   "metadata": {},
   "outputs": [],
   "source": []
  },
  {
   "cell_type": "code",
   "execution_count": 64,
   "metadata": {},
   "outputs": [],
   "source": [
    "OUTPATH = \"/g/data/hj10/cpol_level_1b/v2018/ppi\"\n"
   ]
  },
  {
   "cell_type": "code",
   "execution_count": 66,
   "metadata": {},
   "outputs": [
    {
     "name": "stdout",
     "output_type": "stream",
     "text": [
      "CPU times: user 7.11 s, sys: 1.31 s, total: 8.42 s\n",
      "Wall time: 8.58 s\n"
     ]
    }
   ],
   "source": [
    "%%time\n",
    "update_data(\"/g/data2/rr5/CPOL_radar/CPOL_level_1b/PPI/2017/20170304/cfrad.20170304_000006.000_to_20170304_000826.000_CPOL_PPI_level1b.nc\")"
   ]
  },
  {
   "cell_type": "code",
   "execution_count": 68,
   "metadata": {},
   "outputs": [
    {
     "data": {
      "text/plain": [
       "2.0"
      ]
     },
     "execution_count": 68,
     "metadata": {},
     "output_type": "execute_result"
    }
   ],
   "source": [
    "8.5 * 20e3 / 16 // 3600"
   ]
  },
  {
   "cell_type": "code",
   "execution_count": null,
   "metadata": {},
   "outputs": [],
   "source": []
  }
 ],
 "metadata": {
  "kernelspec": {
   "display_name": "Python 3",
   "language": "python",
   "name": "python3"
  },
  "language_info": {
   "codemirror_mode": {
    "name": "ipython",
    "version": 3
   },
   "file_extension": ".py",
   "mimetype": "text/x-python",
   "name": "python",
   "nbconvert_exporter": "python",
   "pygments_lexer": "ipython3",
   "version": "3.7.3"
  }
 },
 "nbformat": 4,
 "nbformat_minor": 2
}
